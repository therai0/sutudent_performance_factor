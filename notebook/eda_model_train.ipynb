{
 "cells": [
  {
   "cell_type": "code",
   "execution_count": 131,
   "id": "edff03db",
   "metadata": {},
   "outputs": [],
   "source": [
    "import pandas as pd \n",
    "from sklearn.impute import  SimpleImputer"
   ]
  },
  {
   "cell_type": "code",
   "execution_count": 132,
   "id": "74d2e1a7",
   "metadata": {},
   "outputs": [],
   "source": [
    "dataset = pd.read_csv('./data/StudentPerformanceFactors.csv')"
   ]
  },
  {
   "cell_type": "code",
   "execution_count": 133,
   "id": "d001c673",
   "metadata": {},
   "outputs": [
    {
     "data": {
      "text/html": [
       "<div>\n",
       "<style scoped>\n",
       "    .dataframe tbody tr th:only-of-type {\n",
       "        vertical-align: middle;\n",
       "    }\n",
       "\n",
       "    .dataframe tbody tr th {\n",
       "        vertical-align: top;\n",
       "    }\n",
       "\n",
       "    .dataframe thead th {\n",
       "        text-align: right;\n",
       "    }\n",
       "</style>\n",
       "<table border=\"1\" class=\"dataframe\">\n",
       "  <thead>\n",
       "    <tr style=\"text-align: right;\">\n",
       "      <th></th>\n",
       "      <th>Hours_Studied</th>\n",
       "      <th>Attendance</th>\n",
       "      <th>Parental_Involvement</th>\n",
       "      <th>Access_to_Resources</th>\n",
       "      <th>Extracurricular_Activities</th>\n",
       "      <th>Sleep_Hours</th>\n",
       "      <th>Previous_Scores</th>\n",
       "      <th>Motivation_Level</th>\n",
       "      <th>Internet_Access</th>\n",
       "      <th>Tutoring_Sessions</th>\n",
       "      <th>Family_Income</th>\n",
       "      <th>Teacher_Quality</th>\n",
       "      <th>School_Type</th>\n",
       "      <th>Peer_Influence</th>\n",
       "      <th>Physical_Activity</th>\n",
       "      <th>Learning_Disabilities</th>\n",
       "      <th>Parental_Education_Level</th>\n",
       "      <th>Distance_from_Home</th>\n",
       "      <th>Gender</th>\n",
       "      <th>Exam_Score</th>\n",
       "    </tr>\n",
       "  </thead>\n",
       "  <tbody>\n",
       "    <tr>\n",
       "      <th>0</th>\n",
       "      <td>23</td>\n",
       "      <td>84</td>\n",
       "      <td>Low</td>\n",
       "      <td>High</td>\n",
       "      <td>No</td>\n",
       "      <td>7</td>\n",
       "      <td>73</td>\n",
       "      <td>Low</td>\n",
       "      <td>Yes</td>\n",
       "      <td>0</td>\n",
       "      <td>Low</td>\n",
       "      <td>Medium</td>\n",
       "      <td>Public</td>\n",
       "      <td>Positive</td>\n",
       "      <td>3</td>\n",
       "      <td>No</td>\n",
       "      <td>High School</td>\n",
       "      <td>Near</td>\n",
       "      <td>Male</td>\n",
       "      <td>67</td>\n",
       "    </tr>\n",
       "    <tr>\n",
       "      <th>1</th>\n",
       "      <td>19</td>\n",
       "      <td>64</td>\n",
       "      <td>Low</td>\n",
       "      <td>Medium</td>\n",
       "      <td>No</td>\n",
       "      <td>8</td>\n",
       "      <td>59</td>\n",
       "      <td>Low</td>\n",
       "      <td>Yes</td>\n",
       "      <td>2</td>\n",
       "      <td>Medium</td>\n",
       "      <td>Medium</td>\n",
       "      <td>Public</td>\n",
       "      <td>Negative</td>\n",
       "      <td>4</td>\n",
       "      <td>No</td>\n",
       "      <td>College</td>\n",
       "      <td>Moderate</td>\n",
       "      <td>Female</td>\n",
       "      <td>61</td>\n",
       "    </tr>\n",
       "    <tr>\n",
       "      <th>2</th>\n",
       "      <td>24</td>\n",
       "      <td>98</td>\n",
       "      <td>Medium</td>\n",
       "      <td>Medium</td>\n",
       "      <td>Yes</td>\n",
       "      <td>7</td>\n",
       "      <td>91</td>\n",
       "      <td>Medium</td>\n",
       "      <td>Yes</td>\n",
       "      <td>2</td>\n",
       "      <td>Medium</td>\n",
       "      <td>Medium</td>\n",
       "      <td>Public</td>\n",
       "      <td>Neutral</td>\n",
       "      <td>4</td>\n",
       "      <td>No</td>\n",
       "      <td>Postgraduate</td>\n",
       "      <td>Near</td>\n",
       "      <td>Male</td>\n",
       "      <td>74</td>\n",
       "    </tr>\n",
       "    <tr>\n",
       "      <th>3</th>\n",
       "      <td>29</td>\n",
       "      <td>89</td>\n",
       "      <td>Low</td>\n",
       "      <td>Medium</td>\n",
       "      <td>Yes</td>\n",
       "      <td>8</td>\n",
       "      <td>98</td>\n",
       "      <td>Medium</td>\n",
       "      <td>Yes</td>\n",
       "      <td>1</td>\n",
       "      <td>Medium</td>\n",
       "      <td>Medium</td>\n",
       "      <td>Public</td>\n",
       "      <td>Negative</td>\n",
       "      <td>4</td>\n",
       "      <td>No</td>\n",
       "      <td>High School</td>\n",
       "      <td>Moderate</td>\n",
       "      <td>Male</td>\n",
       "      <td>71</td>\n",
       "    </tr>\n",
       "    <tr>\n",
       "      <th>4</th>\n",
       "      <td>19</td>\n",
       "      <td>92</td>\n",
       "      <td>Medium</td>\n",
       "      <td>Medium</td>\n",
       "      <td>Yes</td>\n",
       "      <td>6</td>\n",
       "      <td>65</td>\n",
       "      <td>Medium</td>\n",
       "      <td>Yes</td>\n",
       "      <td>3</td>\n",
       "      <td>Medium</td>\n",
       "      <td>High</td>\n",
       "      <td>Public</td>\n",
       "      <td>Neutral</td>\n",
       "      <td>4</td>\n",
       "      <td>No</td>\n",
       "      <td>College</td>\n",
       "      <td>Near</td>\n",
       "      <td>Female</td>\n",
       "      <td>70</td>\n",
       "    </tr>\n",
       "  </tbody>\n",
       "</table>\n",
       "</div>"
      ],
      "text/plain": [
       "   Hours_Studied  Attendance Parental_Involvement Access_to_Resources  \\\n",
       "0             23          84                  Low                High   \n",
       "1             19          64                  Low              Medium   \n",
       "2             24          98               Medium              Medium   \n",
       "3             29          89                  Low              Medium   \n",
       "4             19          92               Medium              Medium   \n",
       "\n",
       "  Extracurricular_Activities  Sleep_Hours  Previous_Scores Motivation_Level  \\\n",
       "0                         No            7               73              Low   \n",
       "1                         No            8               59              Low   \n",
       "2                        Yes            7               91           Medium   \n",
       "3                        Yes            8               98           Medium   \n",
       "4                        Yes            6               65           Medium   \n",
       "\n",
       "  Internet_Access  Tutoring_Sessions Family_Income Teacher_Quality  \\\n",
       "0             Yes                  0           Low          Medium   \n",
       "1             Yes                  2        Medium          Medium   \n",
       "2             Yes                  2        Medium          Medium   \n",
       "3             Yes                  1        Medium          Medium   \n",
       "4             Yes                  3        Medium            High   \n",
       "\n",
       "  School_Type Peer_Influence  Physical_Activity Learning_Disabilities  \\\n",
       "0      Public       Positive                  3                    No   \n",
       "1      Public       Negative                  4                    No   \n",
       "2      Public        Neutral                  4                    No   \n",
       "3      Public       Negative                  4                    No   \n",
       "4      Public        Neutral                  4                    No   \n",
       "\n",
       "  Parental_Education_Level Distance_from_Home  Gender  Exam_Score  \n",
       "0              High School               Near    Male          67  \n",
       "1                  College           Moderate  Female          61  \n",
       "2             Postgraduate               Near    Male          74  \n",
       "3              High School           Moderate    Male          71  \n",
       "4                  College               Near  Female          70  "
      ]
     },
     "execution_count": 133,
     "metadata": {},
     "output_type": "execute_result"
    }
   ],
   "source": [
    "dataset.head()"
   ]
  },
  {
   "cell_type": "code",
   "execution_count": 134,
   "id": "142bfb85",
   "metadata": {},
   "outputs": [],
   "source": [
    "# independent and dependent varaible\n",
    "x = dataset.drop(columns=['Exam_Score'],axis=1)\n",
    "y = dataset['Exam_Score']"
   ]
  },
  {
   "cell_type": "markdown",
   "id": "2854bed1",
   "metadata": {},
   "source": [
    "## EDA "
   ]
  },
  {
   "cell_type": "code",
   "execution_count": 135,
   "id": "b4b319c5",
   "metadata": {},
   "outputs": [
    {
     "data": {
      "text/plain": [
       "Hours_Studied                  0\n",
       "Attendance                     0\n",
       "Parental_Involvement           0\n",
       "Access_to_Resources            0\n",
       "Extracurricular_Activities     0\n",
       "Sleep_Hours                    0\n",
       "Previous_Scores                0\n",
       "Motivation_Level               0\n",
       "Internet_Access                0\n",
       "Tutoring_Sessions              0\n",
       "Family_Income                  0\n",
       "Teacher_Quality               78\n",
       "School_Type                    0\n",
       "Peer_Influence                 0\n",
       "Physical_Activity              0\n",
       "Learning_Disabilities          0\n",
       "Parental_Education_Level      90\n",
       "Distance_from_Home            67\n",
       "Gender                         0\n",
       "dtype: int64"
      ]
     },
     "execution_count": 135,
     "metadata": {},
     "output_type": "execute_result"
    }
   ],
   "source": [
    "# checking null value\n",
    "x.isnull().sum()"
   ]
  },
  {
   "cell_type": "markdown",
   "id": "4fb0b5ec",
   "metadata": {},
   "source": [
    "So here we can see that there is some null in some columns. So we need to fix it."
   ]
  },
  {
   "cell_type": "code",
   "execution_count": 136,
   "id": "fbb85106",
   "metadata": {},
   "outputs": [
    {
     "data": {
      "text/plain": [
       "Teacher_Quality\n",
       "Medium    3925\n",
       "High      1947\n",
       "Low        657\n",
       "Name: count, dtype: int64"
      ]
     },
     "execution_count": 136,
     "metadata": {},
     "output_type": "execute_result"
    }
   ],
   "source": [
    "dataset['Teacher_Quality'].value_counts()"
   ]
  },
  {
   "cell_type": "code",
   "execution_count": 137,
   "id": "1703c263",
   "metadata": {},
   "outputs": [],
   "source": [
    "x['Teacher_Quality'].fillna(x['Teacher_Quality'].mode,inplace=True)"
   ]
  },
  {
   "cell_type": "code",
   "execution_count": 138,
   "id": "2cd86cd1",
   "metadata": {},
   "outputs": [],
   "source": [
    "x['Parental_Education_Level'].fillna(dataset['Parental_Education_Level'].mode,inplace=True)"
   ]
  },
  {
   "cell_type": "code",
   "execution_count": 139,
   "id": "6b9bd609",
   "metadata": {},
   "outputs": [
    {
     "data": {
      "text/plain": [
       "Distance_from_Home\n",
       "Near        3884\n",
       "Moderate    1998\n",
       "Far          658\n",
       "Name: count, dtype: int64"
      ]
     },
     "execution_count": 139,
     "metadata": {},
     "output_type": "execute_result"
    }
   ],
   "source": [
    "x['Distance_from_Home'].value_counts()"
   ]
  },
  {
   "cell_type": "code",
   "execution_count": 140,
   "id": "4afe5b09",
   "metadata": {},
   "outputs": [],
   "source": [
    "x['Distance_from_Home'].fillna(x['Distance_from_Home'].mode,inplace=True)"
   ]
  },
  {
   "cell_type": "code",
   "execution_count": 141,
   "id": "a2a6226c",
   "metadata": {},
   "outputs": [
    {
     "data": {
      "text/plain": [
       "Hours_Studied                 0\n",
       "Attendance                    0\n",
       "Parental_Involvement          0\n",
       "Access_to_Resources           0\n",
       "Extracurricular_Activities    0\n",
       "Sleep_Hours                   0\n",
       "Previous_Scores               0\n",
       "Motivation_Level              0\n",
       "Internet_Access               0\n",
       "Tutoring_Sessions             0\n",
       "Family_Income                 0\n",
       "Teacher_Quality               0\n",
       "School_Type                   0\n",
       "Peer_Influence                0\n",
       "Physical_Activity             0\n",
       "Learning_Disabilities         0\n",
       "Parental_Education_Level      0\n",
       "Distance_from_Home            0\n",
       "Gender                        0\n",
       "dtype: int64"
      ]
     },
     "execution_count": 141,
     "metadata": {},
     "output_type": "execute_result"
    }
   ],
   "source": [
    "x.isnull().sum()"
   ]
  },
  {
   "cell_type": "code",
   "execution_count": 142,
   "id": "fb22afe0",
   "metadata": {},
   "outputs": [],
   "source": [
    "cat_fet = [f for f in x.columns if x[f].dtype == \"O\"]\n",
    "num_fet = [f for f in x.columns if x[f].dtype != \"O\"]"
   ]
  },
  {
   "cell_type": "code",
   "execution_count": 143,
   "id": "1749cfba",
   "metadata": {},
   "outputs": [
    {
     "name": "stdout",
     "output_type": "stream",
     "text": [
      "Parental_Involvement: ['str']\n",
      "Access_to_Resources: ['str']\n",
      "Extracurricular_Activities: ['str']\n",
      "Motivation_Level: ['str']\n",
      "Internet_Access: ['str']\n",
      "Family_Income: ['str']\n",
      "Teacher_Quality: ['str' 'method']\n",
      "School_Type: ['str']\n",
      "Peer_Influence: ['str']\n",
      "Learning_Disabilities: ['str']\n",
      "Parental_Education_Level: ['str' 'method']\n",
      "Distance_from_Home: ['str' 'method']\n",
      "Gender: ['str']\n"
     ]
    }
   ],
   "source": [
    "for col in cat_fet:\n",
    "    types = x[col].apply(lambda v: type(v).__name__).unique()\n",
    "    print(f\"{col}: {types}\")\n"
   ]
  },
  {
   "cell_type": "code",
   "execution_count": 144,
   "id": "e46b44ed",
   "metadata": {},
   "outputs": [],
   "source": [
    "x.drop(columns=['Teacher_Quality','Parental_Education_Level','Distance_from_Home'],axis=True,inplace=True)"
   ]
  },
  {
   "cell_type": "markdown",
   "id": "4fb10f63",
   "metadata": {},
   "source": [
    "## Encoding and Scaling the dataset"
   ]
  },
  {
   "cell_type": "code",
   "execution_count": 151,
   "id": "fbc23f2d",
   "metadata": {},
   "outputs": [],
   "source": [
    "from sklearn.preprocessing import OneHotEncoder,StandardScaler\n",
    "from sklearn.compose import ColumnTransformer\n",
    "\n",
    "num_encoder = StandardScaler()\n",
    "fet_encoder = OneHotEncoder()\n",
    "\n",
    "cat_fet = [f for f in x.columns if x[f].dtype == \"O\"]\n",
    "num_fet = [f for f in x.columns if x[f].dtype != \"O\"]\n",
    "\n",
    "preprocessor = ColumnTransformer([\n",
    "    ('OneHotEncoder',fet_encoder,cat_fet),\n",
    "    ('StandardScalar',num_encoder,num_fet),\n",
    "])"
   ]
  },
  {
   "cell_type": "markdown",
   "id": "09f1883d",
   "metadata": {},
   "source": [
    "Here is some columns which contain str and num value so we are going to drop this columns \n"
   ]
  },
  {
   "cell_type": "code",
   "execution_count": 165,
   "id": "d46ab927",
   "metadata": {},
   "outputs": [
    {
     "data": {
      "text/plain": [
       "['Parental_Involvement',\n",
       " 'Access_to_Resources',\n",
       " 'Extracurricular_Activities',\n",
       " 'Motivation_Level',\n",
       " 'Internet_Access',\n",
       " 'Family_Income',\n",
       " 'School_Type',\n",
       " 'Peer_Influence',\n",
       " 'Learning_Disabilities',\n",
       " 'Gender']"
      ]
     },
     "execution_count": 165,
     "metadata": {},
     "output_type": "execute_result"
    }
   ],
   "source": [
    "cat_fet"
   ]
  },
  {
   "cell_type": "code",
   "execution_count": 166,
   "id": "311fc12f",
   "metadata": {},
   "outputs": [
    {
     "data": {
      "text/plain": [
       "['Hours_Studied',\n",
       " 'Attendance',\n",
       " 'Sleep_Hours',\n",
       " 'Previous_Scores',\n",
       " 'Tutoring_Sessions',\n",
       " 'Physical_Activity']"
      ]
     },
     "execution_count": 166,
     "metadata": {},
     "output_type": "execute_result"
    }
   ],
   "source": [
    "num_fet"
   ]
  },
  {
   "cell_type": "markdown",
   "id": "ceacef8a",
   "metadata": {},
   "source": [
    "## Train Test Split"
   ]
  },
  {
   "cell_type": "code",
   "execution_count": 154,
   "id": "aa70b516",
   "metadata": {},
   "outputs": [],
   "source": [
    "x = preprocessor.fit_transform(x)"
   ]
  },
  {
   "cell_type": "code",
   "execution_count": 155,
   "id": "75824625",
   "metadata": {},
   "outputs": [],
   "source": [
    "from sklearn.model_selection import train_test_split\n",
    "x_train,x_test,y_train,y_test = train_test_split(x,y,test_size=0.2,random_state=42)"
   ]
  },
  {
   "cell_type": "code",
   "execution_count": 163,
   "id": "423a0415",
   "metadata": {},
   "outputs": [],
   "source": [
    "from sklearn.linear_model import LinearRegression,Lasso,Ridge\n",
    "from sklearn.tree import DecisionTreeRegressor\n",
    "from sklearn.neighbors import KNeighborsRegressor\n",
    "from sklearn.ensemble import AdaBoostRegressor,GradientBoostingRegressor\n",
    "from sklearn.svm import SVR\n",
    "from sklearn.metrics import mean_squared_error,mean_absolute_error,r2_score"
   ]
  },
  {
   "cell_type": "code",
   "execution_count": 157,
   "id": "fb994b7f",
   "metadata": {},
   "outputs": [],
   "source": [
    "def eval_model(y_test,y_pred):\n",
    "    mse = mean_squared_error(y_test,y_pred)\n",
    "    mae = mean_absolute_error(y_test,y_pred)\n",
    "    score = r2_score(y_test,y_pred)\n",
    "    return mse,mae,score"
   ]
  },
  {
   "cell_type": "code",
   "execution_count": 159,
   "id": "15edaddc",
   "metadata": {},
   "outputs": [],
   "source": [
    "models = {\n",
    "    \"LinearRegression\":LinearRegression(),\n",
    "    \"Lasso\":Lasso(),\n",
    "    \"Ridge\":Ridge(),\n",
    "    \"KNeighborsRegressor\":KNeighborsRegressor(),\n",
    "    \"DecisionTreeRegressor\":DecisionTreeRegressor(),\n",
    "    \"SupportVectorRegressor\":SVR(),\n",
    "    \"AdaboostRegressor\":AdaBoostRegressor(),\n",
    "    \"GradientBoostingRegressor\":GradientBoostingRegressor(),\n",
    "}"
   ]
  },
  {
   "cell_type": "code",
   "execution_count": 160,
   "id": "0c035835",
   "metadata": {},
   "outputs": [
    {
     "name": "stdout",
     "output_type": "stream",
     "text": [
      "LinearRegression\n",
      "------------------------------------------------------------\n",
      "Traing dataset\n",
      "Mean Squared Error:4.688513483861311\n",
      "Mean Absolute Error:0.751113114947966\n",
      "R2 score:0.695174254782924\n",
      "------------------------------------------------------------\n",
      "Test data\n",
      "Mean Squared Error:3.6129578837107603\n",
      "Mean Absolute Error:0.6782810136157338\n",
      "R2 score:0.7443976399415164\n",
      "============================================================\n",
      "\n",
      "\n",
      "Lasso\n",
      "------------------------------------------------------------\n",
      "Traing dataset\n",
      "Mean Squared Error:9.248188499325941\n",
      "Mean Absolute Error:1.960603118928058\n",
      "R2 score:0.398724998676273\n",
      "------------------------------------------------------------\n",
      "Test data\n",
      "Mean Squared Error:7.950068322537174\n",
      "Mean Absolute Error:1.9063940444811696\n",
      "R2 score:0.4375643748773437\n",
      "============================================================\n",
      "\n",
      "\n",
      "Ridge\n",
      "------------------------------------------------------------\n",
      "Traing dataset\n",
      "Mean Squared Error:4.6865527750564855\n",
      "Mean Absolute Error:0.7462074189413999\n",
      "R2 score:0.6953017311194306\n",
      "------------------------------------------------------------\n",
      "Test data\n",
      "Mean Squared Error:3.608860973995406\n",
      "Mean Absolute Error:0.6737230775213207\n",
      "R2 score:0.744687479963431\n",
      "============================================================\n",
      "\n",
      "\n",
      "KNeighborsRegressor\n",
      "------------------------------------------------------------\n",
      "Traing dataset\n",
      "Mean Squared Error:4.872158940397351\n",
      "Mean Absolute Error:1.2547209082308426\n",
      "R2 score:0.6832344654793374\n",
      "------------------------------------------------------------\n",
      "Test data\n",
      "Mean Squared Error:6.11034795763994\n",
      "Mean Absolute Error:1.5003025718608174\n",
      "R2 score:0.5677172530040108\n",
      "============================================================\n",
      "\n",
      "\n",
      "DecisionTreeRegressor\n",
      "------------------------------------------------------------\n",
      "Traing dataset\n",
      "Mean Squared Error:0.0\n",
      "Mean Absolute Error:0.0\n",
      "R2 score:1.0\n",
      "------------------------------------------------------------\n",
      "Test data\n",
      "Mean Squared Error:11.571104387291982\n",
      "Mean Absolute Error:1.7314674735249622\n",
      "R2 score:0.1813905157296658\n",
      "============================================================\n",
      "\n",
      "\n",
      "SupportVectorRegressor\n",
      "------------------------------------------------------------\n",
      "Traing dataset\n",
      "Mean Squared Error:4.64302294856429\n",
      "Mean Absolute Error:0.6616883624693314\n",
      "R2 score:0.6981318417387832\n",
      "------------------------------------------------------------\n",
      "Test data\n",
      "Mean Squared Error:3.7270444436106556\n",
      "Mean Absolute Error:0.7249285204119472\n",
      "R2 score:0.7363264708606811\n",
      "============================================================\n",
      "\n",
      "\n",
      "AdaboostRegressor\n",
      "------------------------------------------------------------\n",
      "Traing dataset\n",
      "Mean Squared Error:25.496887394883583\n",
      "Mean Absolute Error:4.194249962684385\n",
      "R2 score:-0.6576912336104446\n",
      "------------------------------------------------------------\n",
      "Test data\n",
      "Mean Squared Error:26.061662670237183\n",
      "Mean Absolute Error:4.1710747067590574\n",
      "R2 score:-0.8437586874715952\n",
      "============================================================\n",
      "\n",
      "\n",
      "GradientBoostingRegressor\n",
      "------------------------------------------------------------\n",
      "Traing dataset\n",
      "Mean Squared Error:4.142567397633119\n",
      "Mean Absolute Error:0.8451911263218229\n",
      "R2 score:0.7306691772473034\n",
      "------------------------------------------------------------\n",
      "Test data\n",
      "Mean Squared Error:3.8956900294490446\n",
      "Mean Absolute Error:0.8685482548914996\n",
      "R2 score:0.7243954683023383\n",
      "============================================================\n",
      "\n",
      "\n"
     ]
    }
   ],
   "source": [
    "r2_list = [] # for test dataset\n",
    "for m in list(models):\n",
    "   model = models[m]\n",
    "   model.fit(x_train,y_train)\n",
    "   y_train_pred = model.predict(x_train)\n",
    "   y_test_pred = model.predict(x_test)\n",
    "\n",
    "   # for training dataset\n",
    "   y_train_mse,y_train_mae,y_train_score = eval_model(y_train,y_train_pred)\n",
    "   # for test dataset\n",
    "   y_test_mse,y_test_mae,y_test_score = eval_model(y_test,y_test_pred)\n",
    "\n",
    "   r2_list.append(y_test_score)\n",
    "\n",
    "   print(f\"{m}\")\n",
    "   print(\"--\"*30)\n",
    "   print(\"Traing dataset\")\n",
    "   print(f\"Mean Squared Error:{y_train_mse}\")\n",
    "   print(f\"Mean Absolute Error:{y_train_mae}\")\n",
    "   print(f\"R2 score:{y_train_score}\")\n",
    "   print(\"--\"*30)\n",
    "   print(\"Test data\")\n",
    "   print(f\"Mean Squared Error:{y_test_mse}\")\n",
    "   print(f\"Mean Absolute Error:{y_test_mae}\")\n",
    "   print(f\"R2 score:{y_test_score}\")\n",
    "   print(\"==\"*30)\n",
    "   print(\"\\n\")"
   ]
  },
  {
   "cell_type": "code",
   "execution_count": 161,
   "id": "5a9ccbbf",
   "metadata": {},
   "outputs": [
    {
     "data": {
      "text/html": [
       "<div>\n",
       "<style scoped>\n",
       "    .dataframe tbody tr th:only-of-type {\n",
       "        vertical-align: middle;\n",
       "    }\n",
       "\n",
       "    .dataframe tbody tr th {\n",
       "        vertical-align: top;\n",
       "    }\n",
       "\n",
       "    .dataframe thead th {\n",
       "        text-align: right;\n",
       "    }\n",
       "</style>\n",
       "<table border=\"1\" class=\"dataframe\">\n",
       "  <thead>\n",
       "    <tr style=\"text-align: right;\">\n",
       "      <th></th>\n",
       "      <th>Model name</th>\n",
       "      <th>R2 score</th>\n",
       "    </tr>\n",
       "  </thead>\n",
       "  <tbody>\n",
       "    <tr>\n",
       "      <th>2</th>\n",
       "      <td>Ridge</td>\n",
       "      <td>0.744687</td>\n",
       "    </tr>\n",
       "    <tr>\n",
       "      <th>0</th>\n",
       "      <td>LinearRegression</td>\n",
       "      <td>0.744398</td>\n",
       "    </tr>\n",
       "    <tr>\n",
       "      <th>5</th>\n",
       "      <td>SupportVectorRegressor</td>\n",
       "      <td>0.736326</td>\n",
       "    </tr>\n",
       "    <tr>\n",
       "      <th>7</th>\n",
       "      <td>GradientBoostingRegressor</td>\n",
       "      <td>0.724395</td>\n",
       "    </tr>\n",
       "    <tr>\n",
       "      <th>3</th>\n",
       "      <td>KNeighborsRegressor</td>\n",
       "      <td>0.567717</td>\n",
       "    </tr>\n",
       "    <tr>\n",
       "      <th>1</th>\n",
       "      <td>Lasso</td>\n",
       "      <td>0.437564</td>\n",
       "    </tr>\n",
       "    <tr>\n",
       "      <th>4</th>\n",
       "      <td>DecisionTreeRegressor</td>\n",
       "      <td>0.181391</td>\n",
       "    </tr>\n",
       "    <tr>\n",
       "      <th>6</th>\n",
       "      <td>AdaboostRegressor</td>\n",
       "      <td>-0.843759</td>\n",
       "    </tr>\n",
       "  </tbody>\n",
       "</table>\n",
       "</div>"
      ],
      "text/plain": [
       "                  Model name  R2 score\n",
       "2                      Ridge  0.744687\n",
       "0           LinearRegression  0.744398\n",
       "5     SupportVectorRegressor  0.736326\n",
       "7  GradientBoostingRegressor  0.724395\n",
       "3        KNeighborsRegressor  0.567717\n",
       "1                      Lasso  0.437564\n",
       "4      DecisionTreeRegressor  0.181391\n",
       "6          AdaboostRegressor -0.843759"
      ]
     },
     "execution_count": 161,
     "metadata": {},
     "output_type": "execute_result"
    }
   ],
   "source": [
    "pd.DataFrame(data=list(zip(list(models),r2_list)),columns=['Model name','R2 score']).sort_values(by=['R2 score'],ascending=False )"
   ]
  }
 ],
 "metadata": {
  "kernelspec": {
   "display_name": "Python 3",
   "language": "python",
   "name": "python3"
  },
  "language_info": {
   "codemirror_mode": {
    "name": "ipython",
    "version": 3
   },
   "file_extension": ".py",
   "mimetype": "text/x-python",
   "name": "python",
   "nbconvert_exporter": "python",
   "pygments_lexer": "ipython3",
   "version": "3.8.20"
  }
 },
 "nbformat": 4,
 "nbformat_minor": 5
}
